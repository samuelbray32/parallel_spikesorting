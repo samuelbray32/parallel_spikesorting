{
 "cells": [
  {
   "cell_type": "markdown",
   "metadata": {},
   "source": [
    "## Spikesorting Pipeline Populator\n",
    "\n",
    "This Notebook is to demonstrate how to use the `spikesorting_pipeline_populator` to efficiently populate the spikesorting pipeline tables once you have determined the sorting parameters appropriate for your dataset\n",
    "\n",
    "First, we'll import the relevant spyglass tools"
   ]
  },
  {
   "cell_type": "code",
   "execution_count": 1,
   "metadata": {},
   "outputs": [
    {
     "name": "stderr",
     "output_type": "stream",
     "text": [
      "[2023-09-13 16:02:42,354][INFO]: Connecting sambray@lmf-db.cin.ucsf.edu:3306\n",
      "[2023-09-13 16:02:42,403][INFO]: Connected sambray@lmf-db.cin.ucsf.edu:3306\n",
      "/home/sambray/mambaforge-pypy3/envs/spyglass/lib/python3.9/site-packages/spikeinterface/sortingcomponents/peak_detection.py:643: NumbaDeprecationWarning: \u001b[1mThe 'nopython' keyword argument was not supplied to the 'numba.jit' decorator. The implicit default value for this argument is currently False, but it will be changed to True in Numba 0.59.0. See https://numba.readthedocs.io/en/stable/reference/deprecation.html#deprecation-of-object-mode-fall-back-behaviour-when-using-jit for details.\u001b[0m\n",
      "  @numba.jit(parallel=False)\n",
      "/home/sambray/mambaforge-pypy3/envs/spyglass/lib/python3.9/site-packages/spikeinterface/sortingcomponents/peak_detection.py:668: NumbaDeprecationWarning: \u001b[1mThe 'nopython' keyword argument was not supplied to the 'numba.jit' decorator. The implicit default value for this argument is currently False, but it will be changed to True in Numba 0.59.0. See https://numba.readthedocs.io/en/stable/reference/deprecation.html#deprecation-of-object-mode-fall-back-behaviour-when-using-jit for details.\u001b[0m\n",
      "  @numba.jit(parallel=False)\n"
     ]
    }
   ],
   "source": [
    "import os\n",
    "os.environ[\"DASK_DISTRIBUTED__WORKER__DAEMON\"] = \"False\" #set variable before importing dask for parallel processing (see below)\n",
    "\n",
    "from spyglass.spikesorting import spikesorting_pipeline_populator, SpikeSortingPipelineParameters"
   ]
  },
  {
   "cell_type": "markdown",
   "metadata": {},
   "source": [
    "The `SpikeSortingPipelineParameters` table where you can manually define a set of pipeline parameters composed of the names of parameter sets you will use at each stage of the pipeline.  This can be useful in tracking and reusing the same parameters settings within a project"
   ]
  },
  {
   "cell_type": "code",
   "execution_count": 2,
   "metadata": {},
   "outputs": [
    {
     "data": {
      "text/html": [
       "\n",
       "    \n",
       "    <style type=\"text/css\">\n",
       "        .Table{\n",
       "            border-collapse:collapse;\n",
       "        }\n",
       "        .Table th{\n",
       "            background: #A0A0A0; color: #ffffff; padding:4px; border:#f0e0e0 1px solid;\n",
       "            font-weight: normal; font-family: monospace; font-size: 100%;\n",
       "        }\n",
       "        .Table td{\n",
       "            padding:4px; border:#f0e0e0 1px solid; font-size:100%;\n",
       "        }\n",
       "        .Table tr:nth-child(odd){\n",
       "            background: #ffffff;\n",
       "            color: #000000;\n",
       "        }\n",
       "        .Table tr:nth-child(even){\n",
       "            background: #f3f1ff;\n",
       "            color: #000000;\n",
       "        }\n",
       "        /* Tooltip container */\n",
       "        .djtooltip {\n",
       "        }\n",
       "        /* Tooltip text */\n",
       "        .djtooltip .djtooltiptext {\n",
       "            visibility: hidden;\n",
       "            width: 120px;\n",
       "            background-color: black;\n",
       "            color: #fff;\n",
       "            text-align: center;\n",
       "            padding: 5px 0;\n",
       "            border-radius: 6px;\n",
       "            /* Position the tooltip text - see examples below! */\n",
       "            position: absolute;\n",
       "            z-index: 1;\n",
       "        }\n",
       "        #primary {\n",
       "            font-weight: bold;\n",
       "            color: black;\n",
       "        }\n",
       "        #nonprimary {\n",
       "            font-weight: normal;\n",
       "            color: white;\n",
       "        }\n",
       "\n",
       "        /* Show the tooltip text when you mouse over the tooltip container */\n",
       "        .djtooltip:hover .djtooltiptext {\n",
       "            visibility: visible;\n",
       "        }\n",
       "    </style>\n",
       "    \n",
       "    <b></b>\n",
       "        <div style=\"max-height:1000px;max-width:1500px;overflow:auto;\">\n",
       "        <table border=\"1\" class=\"Table\">\n",
       "            <thead> <tr style=\"text-align: right;\"> <th> <div class=\"djtooltip\">\n",
       "                            <p id=\"primary\">pipeline_parameters_name</p>\n",
       "                            <span class=\"djtooltiptext\"></span>\n",
       "                        </div></th><th><div class=\"djtooltip\">\n",
       "                            <p id=\"nonprimary\">preproc_params_name</p>\n",
       "                            <span class=\"djtooltiptext\"></span>\n",
       "                        </div></th><th><div class=\"djtooltip\">\n",
       "                            <p id=\"nonprimary\">artifact_parameters</p>\n",
       "                            <span class=\"djtooltiptext\"></span>\n",
       "                        </div></th><th><div class=\"djtooltip\">\n",
       "                            <p id=\"nonprimary\">sorter</p>\n",
       "                            <span class=\"djtooltiptext\"></span>\n",
       "                        </div></th><th><div class=\"djtooltip\">\n",
       "                            <p id=\"nonprimary\">sorter_params_name</p>\n",
       "                            <span class=\"djtooltiptext\"></span>\n",
       "                        </div></th><th><div class=\"djtooltip\">\n",
       "                            <p id=\"nonprimary\">waveform_params_name</p>\n",
       "                            <span class=\"djtooltiptext\"></span>\n",
       "                        </div></th><th><div class=\"djtooltip\">\n",
       "                            <p id=\"nonprimary\">metric_params_name</p>\n",
       "                            <span class=\"djtooltiptext\"></span>\n",
       "                        </div></th><th><div class=\"djtooltip\">\n",
       "                            <p id=\"nonprimary\">auto_curation_params_name</p>\n",
       "                            <span class=\"djtooltiptext\"></span>\n",
       "                        </div> </th> </tr> </thead>\n",
       "            <tbody> <tr> <td>ms_stim_project</td>\n",
       "<td>franklab_tetrode_hippocampus</td>\n",
       "<td>ampl_2000_prop_75</td>\n",
       "<td>mountainsort4</td>\n",
       "<td>franklab_tetrode_hippocampus_30KHz_tmp</td>\n",
       "<td>default_whitened</td>\n",
       "<td>peak_offest_num_spikes_2</td>\n",
       "<td>mike_noise_03_offset_2_isi_0025_mua</td> </tr> </tbody>\n",
       "        </table>\n",
       "        \n",
       "        <p>Total: 1</p></div>\n",
       "        "
      ],
      "text/plain": [
       "*pipeline_para preproc_params artifact_param sorter         sorter_params_ waveform_param metric_params_ auto_curation_\n",
       "+------------+ +------------+ +------------+ +------------+ +------------+ +------------+ +------------+ +------------+\n",
       "ms_stim_projec franklab_tetro ampl_2000_prop mountainsort4  franklab_tetro default_whiten peak_offest_nu mike_noise_03_\n",
       " (Total: 1)"
      ]
     },
     "execution_count": 2,
     "metadata": {},
     "output_type": "execute_result"
    }
   ],
   "source": [
    "SpikeSortingPipelineParameters()"
   ]
  },
  {
   "cell_type": "markdown",
   "metadata": {},
   "source": [
    "These parameters are used to populate the spike sorting pipeline within the function `spikesorting_pipeline_populator`.  \n",
    "In the simplest use case, you can call this function with just a pipeline_parameters_name referencing an entry in the SpikeSortingPipelineParameters table, and the session and interval you want to sort. Doing so will create sort groups by shank (if not already present for the session), a sort interval matching the interval provided and run through the pipeline.  Other parameter options are:\n",
    "\n",
    "- team_name : str\n",
    "        Which team to assign the spike sorting to\n",
    "\n",
    "- __fig_url_repo :__ str, optional\n",
    "    Where to store the curation figurl json files (e.g.,\n",
    "    'gh://LorenFrankLab/sorting-curations/main/user/'). Default None to\n",
    "    skip figurl\n",
    "\n",
    "- __interval_list_name :__ str,\n",
    "    if sort_interval_name not provided, will create a sort interval for the\n",
    "    given interval with the same name\n",
    "\n",
    "- __sort_interval_name :__ str, default None\n",
    "    if provided, will use the given sort interval, requires making this\n",
    "    interval yourself\n",
    "\n",
    "- __pipeline_parameters_name :__ str, optional\n",
    "    If provided, will lookup pipeline parameters from the\n",
    "    SpikeSortingPipelineParameters table, supersedes other values provided,\n",
    "    by default None\n",
    "\n",
    "- __restrict_probe_type :__ dict, optional\n",
    "    Restricts analysis to sort groups with matching keys. Can use keys from\n",
    "    the SortGroup and ElectrodeGroup Tables (e.g. electrode_group_name,\n",
    "    probe_id, target_hemisphere), by default {}\n",
    "\n",
    "- __\\{\\}\\_params_name :__ str, optional\n",
    "    Optionally, you can pass each parameter element individually. If __pipeline_parameters_name__ is provided, entries from the table will overide these passed options"
   ]
  },
  {
   "cell_type": "code",
   "execution_count": 3,
   "metadata": {},
   "outputs": [
    {
     "name": "stdout",
     "output_type": "stream",
     "text": [
      "Using pipeline parameters ms_stim_project\n",
      "Generating sort interval from 02_wtrackBan77mWlockout80mstheta90\n",
      "Generating spike sorting recording\n",
      "Running artifact detection\n",
      "Running spike sorting\n",
      "Beginning curation\n",
      "Extracting waveforms\n",
      "Extracting waveforms...\n"
     ]
    },
    {
     "data": {
      "application/vnd.jupyter.widget-view+json": {
       "model_id": "7d780ce8f9a04a38b20301755e6b27d3",
       "version_major": 2,
       "version_minor": 0
      },
      "text/plain": [
       "extract waveforms memmap:   0%|          | 0/5 [00:00<?, ?it/s]"
      ]
     },
     "metadata": {},
     "output_type": "display_data"
    },
    {
     "name": "stdout",
     "output_type": "stream",
     "text": [
      "Writing new NWB file SB2spikegadgets20220224_0EFVDBMYXL.nwb\n"
     ]
    },
    {
     "name": "stderr",
     "output_type": "stream",
     "text": [
      "/home/sambray/mambaforge-pypy3/envs/spyglass/lib/python3.9/site-packages/hdmf/build/objectmapper.py:260: DtypeConversionWarning: Spec 'Units/spike_times': Value with data type int64 is being converted to data type float64 as specified.\n",
      "  warnings.warn(full_warning_msg, DtypeConversionWarning)\n"
     ]
    },
    {
     "name": "stdout",
     "output_type": "stream",
     "text": [
      "Calculating quality metrics\n",
      "Computed all metrics: {'snr': {1: 3.5332086, 2: 3.4332783, 3: 3.7708488, 4: 3.4630616, 5: 3.4783084, 6: 3.548221, 7: 3.6467302, 8: 3.4736087, 9: 3.4898095, 10: 3.4654353, 11: 3.5187457, 12: 3.438066, 13: 3.6057005, 14: 3.472549, 15: 3.571222, 16: 3.4618917, 17: 3.5582566, 18: 3.452622, 19: 3.5286677, 20: 3.7574408, 21: 3.5070932, 22: 3.581863, 23: 3.4403317, 24: 3.4768283, 25: 3.4827776, 26: 3.5205245, 27: 3.4651222, 28: 3.599984, 29: 3.4288933, 30: 3.5165195, 31: 3.4402614}, 'isi_violation': {'1': 0.04639226878974513, '2': 0.0400116680441441, '3': 0.05676583118607012, '4': 0.040147833130822194, '5': 0.03874026580195052, '6': 0.037633715685010956, '7': 0.04128487069843209, '8': 0.04050858907546805, '9': 0.03918876604764313, '10': 0.03795885025782407, '11': 0.047917880675960374, '12': 0.03859004343468092, '13': 0.03943620828160374, '14': 0.039824439824439825, '15': 0.042233682440875116, '16': 0.03970011927074459, '17': 0.041910729691685966, '18': 0.04310405150094465, '19': 0.04035812033214269, '20': 0.04835857056329497, '21': 0.04403639909002275, '22': 0.058389867064036705, '23': 0.04009835445432192, '24': 0.04303110292103494, '25': 0.0445479026883929, '26': 0.04911841556331379, '27': 0.04114707500458463, '28': 0.04251968503937008, '29': 0.04421125461254612, '30': 0.04460974797379816, '31': 0.04238889536918232}, 'nn_isolation': {'1': 0.5021, '2': 0.49729999999999996, '3': 0.982, '4': 0.9891, '5': 0.9871000000000001, '6': 0.9858, '7': 0.9888, '8': 0.9894000000000001, '9': 0.9874, '10': 0.9865999999999999, '11': 0.9879, '12': 0.9894000000000001, '13': 0.9875, '14': 0.4967, '15': 0.4899, '16': 0.48979999999999996, '17': 0.5083, '18': 0.9888999999999999, '19': 0.9878, '20': 0.9862, '21': 0.9804, '22': 0.9807, '23': 0.9832000000000001, '24': 0.9804999999999999, '25': 0.9845, '26': 0.9868, '27': 0.9892, '28': 0.9849, '29': 0.9881, '30': 0.5003, '31': 0.4986}, 'nn_noise_overlap': {'1': 0.4807, '2': 0.47609999999999997, '3': 0.47839999999999994, '4': 0.4799, '5': 0.4971, '6': 0.49429999999999996, '7': 0.5031, '8': 0.49859999999999993, '9': 0.4988, '10': 0.4968, '11': 0.48940000000000006, '12': 0.48360000000000003, '13': 0.49360000000000004, '14': 0.4907, '15': 0.46219999999999994, '16': 0.5025999999999999, '17': 0.48849999999999993, '18': 0.482, '19': 0.48460000000000003, '20': 0.48360000000000003, '21': 0.48819999999999997, '22': 0.4688, '23': 0.5142, '24': 0.49019999999999997, '25': 0.48529999999999995, '26': 0.48650000000000004, '27': 0.5059, '28': 0.4638, '29': 0.4865999999999999, '30': 0.49560000000000004, '31': 0.49130000000000007}, 'peak_offset': {1: 0, 2: 0, 3: 0, 4: 0, 5: 0, 6: 0, 7: 0, 8: 0, 9: 0, 10: 0, 11: 0, 12: 0, 13: 0, 14: 0, 15: 0, 16: 0, 17: 0, 18: 0, 19: 0, 20: 0, 21: 0, 22: 0, 23: 0, 24: 0, 25: 0, 26: 0, 27: 0, 28: 0, 29: 0, 30: 0, 31: 0}, 'num_spikes': {'1': 39943, '2': 41139, '3': 38422, '4': 39505, '5': 40708, '6': 38796, '7': 39289, '8': 41449, '9': 41518, '10': 39175, '11': 44619, '12': 41903, '13': 41080, '14': 43291, '15': 44018, '16': 41084, '17': 44047, '18': 42874, '19': 43115, '20': 41276, '21': 43079, '22': 51003, '23': 42297, '24': 40158, '25': 43819, '26': 45544, '27': 43625, '28': 43816, '29': 43361, '30': 45036, '31': 42866}}\n",
      "Writing new NWB file SB2spikegadgets20220224_94GSHI6AE7.nwb\n",
      "Adding metric snr : {1: 3.5332086, 2: 3.4332783, 3: 3.7708488, 4: 3.4630616, 5: 3.4783084, 6: 3.548221, 7: 3.6467302, 8: 3.4736087, 9: 3.4898095, 10: 3.4654353, 11: 3.5187457, 12: 3.438066, 13: 3.6057005, 14: 3.472549, 15: 3.571222, 16: 3.4618917, 17: 3.5582566, 18: 3.452622, 19: 3.5286677, 20: 3.7574408, 21: 3.5070932, 22: 3.581863, 23: 3.4403317, 24: 3.4768283, 25: 3.4827776, 26: 3.5205245, 27: 3.4651222, 28: 3.599984, 29: 3.4288933, 30: 3.5165195, 31: 3.4402614}\n",
      "Adding metric isi_violation : {'1': 0.04639226878974513, '2': 0.0400116680441441, '3': 0.05676583118607012, '4': 0.040147833130822194, '5': 0.03874026580195052, '6': 0.037633715685010956, '7': 0.04128487069843209, '8': 0.04050858907546805, '9': 0.03918876604764313, '10': 0.03795885025782407, '11': 0.047917880675960374, '12': 0.03859004343468092, '13': 0.03943620828160374, '14': 0.039824439824439825, '15': 0.042233682440875116, '16': 0.03970011927074459, '17': 0.041910729691685966, '18': 0.04310405150094465, '19': 0.04035812033214269, '20': 0.04835857056329497, '21': 0.04403639909002275, '22': 0.058389867064036705, '23': 0.04009835445432192, '24': 0.04303110292103494, '25': 0.0445479026883929, '26': 0.04911841556331379, '27': 0.04114707500458463, '28': 0.04251968503937008, '29': 0.04421125461254612, '30': 0.04460974797379816, '31': 0.04238889536918232}\n",
      "Adding metric nn_isolation : {'1': 0.5021, '2': 0.49729999999999996, '3': 0.982, '4': 0.9891, '5': 0.9871000000000001, '6': 0.9858, '7': 0.9888, '8': 0.9894000000000001, '9': 0.9874, '10': 0.9865999999999999, '11': 0.9879, '12': 0.9894000000000001, '13': 0.9875, '14': 0.4967, '15': 0.4899, '16': 0.48979999999999996, '17': 0.5083, '18': 0.9888999999999999, '19': 0.9878, '20': 0.9862, '21': 0.9804, '22': 0.9807, '23': 0.9832000000000001, '24': 0.9804999999999999, '25': 0.9845, '26': 0.9868, '27': 0.9892, '28': 0.9849, '29': 0.9881, '30': 0.5003, '31': 0.4986}\n",
      "Adding metric nn_noise_overlap : {'1': 0.4807, '2': 0.47609999999999997, '3': 0.47839999999999994, '4': 0.4799, '5': 0.4971, '6': 0.49429999999999996, '7': 0.5031, '8': 0.49859999999999993, '9': 0.4988, '10': 0.4968, '11': 0.48940000000000006, '12': 0.48360000000000003, '13': 0.49360000000000004, '14': 0.4907, '15': 0.46219999999999994, '16': 0.5025999999999999, '17': 0.48849999999999993, '18': 0.482, '19': 0.48460000000000003, '20': 0.48360000000000003, '21': 0.48819999999999997, '22': 0.4688, '23': 0.5142, '24': 0.49019999999999997, '25': 0.48529999999999995, '26': 0.48650000000000004, '27': 0.5059, '28': 0.4638, '29': 0.4865999999999999, '30': 0.49560000000000004, '31': 0.49130000000000007}\n",
      "Adding metric peak_offset : {1: 0, 2: 0, 3: 0, 4: 0, 5: 0, 6: 0, 7: 0, 8: 0, 9: 0, 10: 0, 11: 0, 12: 0, 13: 0, 14: 0, 15: 0, 16: 0, 17: 0, 18: 0, 19: 0, 20: 0, 21: 0, 22: 0, 23: 0, 24: 0, 25: 0, 26: 0, 27: 0, 28: 0, 29: 0, 30: 0, 31: 0}\n",
      "Adding metric num_spikes : {'1': 39943, '2': 41139, '3': 38422, '4': 39505, '5': 40708, '6': 38796, '7': 39289, '8': 41449, '9': 41518, '10': 39175, '11': 44619, '12': 41903, '13': 41080, '14': 43291, '15': 44018, '16': 41084, '17': 44047, '18': 42874, '19': 43115, '20': 41276, '21': 43079, '22': 51003, '23': 42297, '24': 40158, '25': 43819, '26': 45544, '27': 43625, '28': 43816, '29': 43361, '30': 45036, '31': 42866}\n",
      "Creating automatic curation\n",
      "Creating curated spike sorting\n",
      "Found 0 accepted units\n",
      "Writing new NWB file SB2spikegadgets20220224_RILN5KHIPM.nwb\n",
      "Sorting contains no units.Created an empty analysis nwb file anyway.\n"
     ]
    }
   ],
   "source": [
    "nwb_file_name = \"SB2spikegadgets20220224_.nwb\"\n",
    "interval_list_name = \"02_wtrackBan77mWlockout80mstheta90\"\n",
    "\n",
    "spikesorting_pipeline_populator(nwb_file_name=nwb_file_name,\n",
    "                                interval_list_name=interval_list_name,\n",
    "                                pipeline_parameters_name='ms_stim_project',\n",
    "                                team_name='ms_stim',\n",
    "                                )"
   ]
  },
  {
   "cell_type": "markdown",
   "metadata": {},
   "source": [
    "## Parallelization\n",
    "\n",
    "This pipeline population is embarasingly parallel between different intervals. To speed up spikesorting on many datasets, we can use parallel calls to the pipeline populator to take advantage of computational resources.  \n",
    "\n",
    "Here we will use `dask` to spawn workers which will each run the pipeline on a different interval. First, we need to create a list containing the set of arguments for each call to the pipeline.  These can be from any number of sessions, intervals, or parameters sets"
   ]
  },
  {
   "cell_type": "code",
   "execution_count": 6,
   "metadata": {},
   "outputs": [
    {
     "name": "stderr",
     "output_type": "stream",
     "text": [
      "[2023-09-13 16:07:07,792][INFO]: Connecting sambray@lmf-db.cin.ucsf.edu:3306\n",
      "[2023-09-13 16:07:07,849][INFO]: Connected sambray@lmf-db.cin.ucsf.edu:3306\n",
      "/home/sambray/mambaforge-pypy3/envs/spyglass/lib/python3.9/site-packages/spikeinterface/sortingcomponents/peak_detection.py:643: NumbaDeprecationWarning: \u001b[1mThe 'nopython' keyword argument was not supplied to the 'numba.jit' decorator. The implicit default value for this argument is currently False, but it will be changed to True in Numba 0.59.0. See https://numba.readthedocs.io/en/stable/reference/deprecation.html#deprecation-of-object-mode-fall-back-behaviour-when-using-jit for details.\u001b[0m\n",
      "  @numba.jit(parallel=False)\n",
      "/home/sambray/mambaforge-pypy3/envs/spyglass/lib/python3.9/site-packages/spikeinterface/sortingcomponents/peak_detection.py:668: NumbaDeprecationWarning: \u001b[1mThe 'nopython' keyword argument was not supplied to the 'numba.jit' decorator. The implicit default value for this argument is currently False, but it will be changed to True in Numba 0.59.0. See https://numba.readthedocs.io/en/stable/reference/deprecation.html#deprecation-of-object-mode-fall-back-behaviour-when-using-jit for details.\u001b[0m\n",
      "  @numba.jit(parallel=False)\n"
     ]
    }
   ],
   "source": [
    "from spyglass.common import PositionIntervalMap, IntervalList\n",
    "from spyglass.spikesorting import spikesorting_pipeline_populator\n",
    "nwb_file_name = \"SB2spikegadgets20220224_.nwb\"\n",
    "\n",
    "intervals = [x for x in (IntervalList() & {\"nwb_file_name\":nwb_file_name}).fetch(\"interval_list_name\") if x[0] =='0']\n",
    "\n",
    "arguments_list = []\n",
    "for interval in intervals:\n",
    "    arguments_list.append(dict(nwb_file_name=nwb_file_name,\n",
    "                               interval_list_name=interval,\n",
    "                               pipeline_parameters_name='ms_stim_project',\n",
    "                               team_name='ms_stim',\n",
    "                               ))\n"
   ]
  },
  {
   "cell_type": "markdown",
   "metadata": {},
   "source": [
    "We will also need a function to be called by dask which can take the passed group arguments and feed them to the pipeline poopulator. We can also use this to insulate from exceptions that may arise from the pipeline and instead write them to a list"
   ]
  },
  {
   "cell_type": "code",
   "execution_count": 7,
   "metadata": {},
   "outputs": [],
   "source": [
    "def pass_function(arg_dict):\n",
    "    try:\n",
    "        spikesorting_pipeline_populator(\n",
    "            nwb_file_name=arg_dict[\"nwb_file_name\"],\n",
    "            interval_list_name=arg_dict[\"interval_list_name\"],\n",
    "            team_name=arg_dict[\"team_name\"],\n",
    "            pipeline_parameters_name=arg_dict[\"pipeline_parameters_name\"],\n",
    "        )\n",
    "        return\n",
    "    except Exception as e:\n",
    "        print(e)\n",
    "        return str(e)"
   ]
  },
  {
   "cell_type": "markdown",
   "metadata": {},
   "source": [
    "We Can now create our dask client to create and manage workers. \n",
    "\n",
    "`TODO:` Optomize the number of threads and workers for virga machines"
   ]
  },
  {
   "cell_type": "code",
   "execution_count": 4,
   "metadata": {},
   "outputs": [
    {
     "data": {
      "text/plain": [
       "False"
      ]
     },
     "execution_count": 4,
     "metadata": {},
     "output_type": "execute_result"
    }
   ],
   "source": [
    "import dask\n",
    "dask.config.get(\"distributed.worker.daemon\")\n",
    "from dask.distributed import Client, progress\n",
    "client = Client(threads_per_worker=4, n_workers=10)\n",
    "client"
   ]
  },
  {
   "cell_type": "markdown",
   "metadata": {},
   "source": [
    "Now we use the dask to map our list of arguments to our helper function and enjoy using our cores"
   ]
  },
  {
   "cell_type": "code",
   "execution_count": 8,
   "metadata": {},
   "outputs": [
    {
     "name": "stderr",
     "output_type": "stream",
     "text": [
      "[2023-09-13 16:07:21,347][INFO]: Connecting sambray@lmf-db.cin.ucsf.edu:3306\n",
      "[2023-09-13 16:07:21,378][INFO]: Connected sambray@lmf-db.cin.ucsf.edu:3306\n",
      "[2023-09-13 16:07:21,583][INFO]: Connecting sambray@lmf-db.cin.ucsf.edu:3306\n",
      "[2023-09-13 16:07:21,617][INFO]: Connected sambray@lmf-db.cin.ucsf.edu:3306\n",
      "/home/sambray/mambaforge-pypy3/envs/spyglass/lib/python3.9/site-packages/spikeinterface/sortingcomponents/peak_detection.py:643: NumbaDeprecationWarning: \u001b[1mThe 'nopython' keyword argument was not supplied to the 'numba.jit' decorator. The implicit default value for this argument is currently False, but it will be changed to True in Numba 0.59.0. See https://numba.readthedocs.io/en/stable/reference/deprecation.html#deprecation-of-object-mode-fall-back-behaviour-when-using-jit for details.\u001b[0m\n",
      "  @numba.jit(parallel=False)\n",
      "/home/sambray/mambaforge-pypy3/envs/spyglass/lib/python3.9/site-packages/spikeinterface/sortingcomponents/peak_detection.py:668: NumbaDeprecationWarning: \u001b[1mThe 'nopython' keyword argument was not supplied to the 'numba.jit' decorator. The implicit default value for this argument is currently False, but it will be changed to True in Numba 0.59.0. See https://numba.readthedocs.io/en/stable/reference/deprecation.html#deprecation-of-object-mode-fall-back-behaviour-when-using-jit for details.\u001b[0m\n",
      "  @numba.jit(parallel=False)\n",
      "/home/sambray/mambaforge-pypy3/envs/spyglass/lib/python3.9/site-packages/spikeinterface/sortingcomponents/peak_detection.py:643: NumbaDeprecationWarning: \u001b[1mThe 'nopython' keyword argument was not supplied to the 'numba.jit' decorator. The implicit default value for this argument is currently False, but it will be changed to True in Numba 0.59.0. See https://numba.readthedocs.io/en/stable/reference/deprecation.html#deprecation-of-object-mode-fall-back-behaviour-when-using-jit for details.\u001b[0m\n",
      "  @numba.jit(parallel=False)\n",
      "/home/sambray/mambaforge-pypy3/envs/spyglass/lib/python3.9/site-packages/spikeinterface/sortingcomponents/peak_detection.py:668: NumbaDeprecationWarning: \u001b[1mThe 'nopython' keyword argument was not supplied to the 'numba.jit' decorator. The implicit default value for this argument is currently False, but it will be changed to True in Numba 0.59.0. See https://numba.readthedocs.io/en/stable/reference/deprecation.html#deprecation-of-object-mode-fall-back-behaviour-when-using-jit for details.\u001b[0m\n",
      "  @numba.jit(parallel=False)\n"
     ]
    },
    {
     "name": "stdout",
     "output_type": "stream",
     "text": [
      "Using pipeline parameters ms_stim_project\n",
      "Generating sort interval from 01_sleepBan77mWnostim\n",
      "Generating spike sorting recording\n",
      "Using pipeline parameters ms_stim_project\n",
      "Generating sort interval from 02_wtrackBan77mWlockout80mstheta90\n",
      "Generating spike sorting recording\n",
      "write_binary_recording with n_jobs = 8 and chunk_size = 299593\n"
     ]
    },
    {
     "name": "stderr",
     "output_type": "stream",
     "text": [
      "write_binary_recording: 100%|██████████| 84/84 [00:46<00:00,  1.79it/s]\n"
     ]
    },
    {
     "name": "stdout",
     "output_type": "stream",
     "text": [
      "Running artifact detection\n",
      "(1217, 'Cannot delete or update a parent row: a foreign key constraint fails')\n",
      "using 4 jobs...\n"
     ]
    },
    {
     "name": "stderr",
     "output_type": "stream",
     "text": [
      "detect_artifact_frames:   0%|          | 0/84 [00:00<?, ?it/s][2023-09-13 16:08:26,733][INFO]: Connecting sambray@lmf-db.cin.ucsf.edu:3306\n",
      "[2023-09-13 16:08:26,733][INFO]: Connecting sambray@lmf-db.cin.ucsf.edu:3306\n",
      "[2023-09-13 16:08:26,733][INFO]: Connecting sambray@lmf-db.cin.ucsf.edu:3306\n",
      "[2023-09-13 16:08:26,733][INFO]: Connecting sambray@lmf-db.cin.ucsf.edu:3306\n",
      "[2023-09-13 16:08:26,785][INFO]: Connected sambray@lmf-db.cin.ucsf.edu:3306\n",
      "[2023-09-13 16:08:26,786][INFO]: Connected sambray@lmf-db.cin.ucsf.edu:3306\n",
      "[2023-09-13 16:08:26,787][INFO]: Connected sambray@lmf-db.cin.ucsf.edu:3306\n",
      "[2023-09-13 16:08:26,787][INFO]: Connected sambray@lmf-db.cin.ucsf.edu:3306\n",
      "/home/sambray/mambaforge-pypy3/envs/spyglass/lib/python3.9/site-packages/spikeinterface/sortingcomponents/peak_detection.py:643: NumbaDeprecationWarning: \u001b[1mThe 'nopython' keyword argument was not supplied to the 'numba.jit' decorator. The implicit default value for this argument is currently False, but it will be changed to True in Numba 0.59.0. See https://numba.readthedocs.io/en/stable/reference/deprecation.html#deprecation-of-object-mode-fall-back-behaviour-when-using-jit for details.\u001b[0m\n",
      "  @numba.jit(parallel=False)\n",
      "/home/sambray/mambaforge-pypy3/envs/spyglass/lib/python3.9/site-packages/spikeinterface/sortingcomponents/peak_detection.py:643: NumbaDeprecationWarning: \u001b[1mThe 'nopython' keyword argument was not supplied to the 'numba.jit' decorator. The implicit default value for this argument is currently False, but it will be changed to True in Numba 0.59.0. See https://numba.readthedocs.io/en/stable/reference/deprecation.html#deprecation-of-object-mode-fall-back-behaviour-when-using-jit for details.\u001b[0m\n",
      "  @numba.jit(parallel=False)\n",
      "/home/sambray/mambaforge-pypy3/envs/spyglass/lib/python3.9/site-packages/spikeinterface/sortingcomponents/peak_detection.py:643: NumbaDeprecationWarning: \u001b[1mThe 'nopython' keyword argument was not supplied to the 'numba.jit' decorator. The implicit default value for this argument is currently False, but it will be changed to True in Numba 0.59.0. See https://numba.readthedocs.io/en/stable/reference/deprecation.html#deprecation-of-object-mode-fall-back-behaviour-when-using-jit for details.\u001b[0m\n",
      "  @numba.jit(parallel=False)\n",
      "/home/sambray/mambaforge-pypy3/envs/spyglass/lib/python3.9/site-packages/spikeinterface/sortingcomponents/peak_detection.py:643: NumbaDeprecationWarning: \u001b[1mThe 'nopython' keyword argument was not supplied to the 'numba.jit' decorator. The implicit default value for this argument is currently False, but it will be changed to True in Numba 0.59.0. See https://numba.readthedocs.io/en/stable/reference/deprecation.html#deprecation-of-object-mode-fall-back-behaviour-when-using-jit for details.\u001b[0m\n",
      "  @numba.jit(parallel=False)\n",
      "/home/sambray/mambaforge-pypy3/envs/spyglass/lib/python3.9/site-packages/spikeinterface/sortingcomponents/peak_detection.py:668: NumbaDeprecationWarning: \u001b[1mThe 'nopython' keyword argument was not supplied to the 'numba.jit' decorator. The implicit default value for this argument is currently False, but it will be changed to True in Numba 0.59.0. See https://numba.readthedocs.io/en/stable/reference/deprecation.html#deprecation-of-object-mode-fall-back-behaviour-when-using-jit for details.\u001b[0m\n",
      "  @numba.jit(parallel=False)\n",
      "/home/sambray/mambaforge-pypy3/envs/spyglass/lib/python3.9/site-packages/spikeinterface/sortingcomponents/peak_detection.py:668: NumbaDeprecationWarning: \u001b[1mThe 'nopython' keyword argument was not supplied to the 'numba.jit' decorator. The implicit default value for this argument is currently False, but it will be changed to True in Numba 0.59.0. See https://numba.readthedocs.io/en/stable/reference/deprecation.html#deprecation-of-object-mode-fall-back-behaviour-when-using-jit for details.\u001b[0m\n",
      "  @numba.jit(parallel=False)\n",
      "/home/sambray/mambaforge-pypy3/envs/spyglass/lib/python3.9/site-packages/spikeinterface/sortingcomponents/peak_detection.py:668: NumbaDeprecationWarning: \u001b[1mThe 'nopython' keyword argument was not supplied to the 'numba.jit' decorator. The implicit default value for this argument is currently False, but it will be changed to True in Numba 0.59.0. See https://numba.readthedocs.io/en/stable/reference/deprecation.html#deprecation-of-object-mode-fall-back-behaviour-when-using-jit for details.\u001b[0m\n",
      "  @numba.jit(parallel=False)\n",
      "/home/sambray/mambaforge-pypy3/envs/spyglass/lib/python3.9/site-packages/spikeinterface/sortingcomponents/peak_detection.py:668: NumbaDeprecationWarning: \u001b[1mThe 'nopython' keyword argument was not supplied to the 'numba.jit' decorator. The implicit default value for this argument is currently False, but it will be changed to True in Numba 0.59.0. See https://numba.readthedocs.io/en/stable/reference/deprecation.html#deprecation-of-object-mode-fall-back-behaviour-when-using-jit for details.\u001b[0m\n",
      "  @numba.jit(parallel=False)\n",
      "detect_artifact_frames: 100%|██████████| 84/84 [00:24<00:00,  3.49it/s]\n"
     ]
    },
    {
     "name": "stdout",
     "output_type": "stream",
     "text": [
      "No artifacts detected.\n",
      "Running spike sorting\n",
      "Running spike sorting on {'nwb_file_name': 'SB2spikegadgets20220224_.nwb', 'sort_group_id': 0, 'sort_interval_name': '01_sleepBan77mWnostim', 'preproc_params_name': 'franklab_tetrode_hippocampus', 'team_name': 'ms_stim', 'sorter': 'mountainsort4', 'sorter_params_name': 'franklab_tetrode_hippocampus_30KHz_tmp', 'artifact_removed_interval_list_name': 'SB2spikegadgets20220224_.nwb_01_sleepBan77mWnostim_0_franklab_tetrode_hippocampus_ampl_2000_prop_75_artifact_removed_valid_times'}...\n",
      "Mountainsort4 use the OLD spikeextractors mapped with NewToOldRecording\n",
      "Using temporary directory /stelmo/nwb/tmp/spyglass/tmplwbttflq\n",
      "Using 4 workers.\n",
      "Using tempdir: /stelmo/nwb/tmp/spyglass/tmplwbttflq/tmph94bfez_\n",
      "Num. workers = 4\n",
      "Preparing /stelmo/nwb/tmp/spyglass/tmplwbttflq/tmph94bfez_/timeseries.hdf5...\n"
     ]
    }
   ],
   "source": [
    "results = client.map(pass_function, arguments_list)"
   ]
  },
  {
   "cell_type": "markdown",
   "metadata": {},
   "source": [
    "Finally, We can check for error messages for each argument set"
   ]
  },
  {
   "cell_type": "code",
   "execution_count": 10,
   "metadata": {},
   "outputs": [
    {
     "data": {
      "text/plain": [
       "[<Future: pending, key: pass_function-2a28d6b93261542cef0922db6341fe88>,\n",
       " <Future: finished, type: str, key: pass_function-d4f1bc3ecf62ea231745c3f30d6e5575>]"
      ]
     },
     "execution_count": 10,
     "metadata": {},
     "output_type": "execute_result"
    }
   ],
   "source": [
    "for args,result in zip(arguments_list,client.gather(results)):\n",
    "    print(args[\"nwb_file_name\"],args[\"interval_list_name\"])\n",
    "    if result is not None:\n",
    "        print(result)"
   ]
  }
 ],
 "metadata": {
  "kernelspec": {
   "display_name": "spyglass",
   "language": "python",
   "name": "python3"
  },
  "language_info": {
   "codemirror_mode": {
    "name": "ipython",
    "version": 3
   },
   "file_extension": ".py",
   "mimetype": "text/x-python",
   "name": "python",
   "nbconvert_exporter": "python",
   "pygments_lexer": "ipython3",
   "version": "3.9.16"
  },
  "orig_nbformat": 4
 },
 "nbformat": 4,
 "nbformat_minor": 2
}
